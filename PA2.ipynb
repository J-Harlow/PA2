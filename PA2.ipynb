{
 "cells": [
  {
   "cell_type": "markdown",
   "id": "d5d8984b",
   "metadata": {},
   "source": [
    "#####PA2\n",
    "####Justin Harlow Fall 2023"
   ]
  },
  {
   "cell_type": "markdown",
   "id": "1a71aa09",
   "metadata": {},
   "source": [
    "#### Task 1: Personal Information"
   ]
  },
  {
   "cell_type": "code",
   "execution_count": 18,
   "id": "e927183c",
   "metadata": {},
   "outputs": [],
   "source": [
    "name='Justin_Harlow'\n",
    "age=27\n",
    "height=187\n",
    "fav_color='Red'"
   ]
  },
  {
   "cell_type": "code",
   "execution_count": 19,
   "id": "a193f522",
   "metadata": {},
   "outputs": [],
   "source": [
    "message=(f\"My name is {name}, I am {age} years old, I am {height} cm tall, and my favorite color is {fav_color}.\")"
   ]
  },
  {
   "cell_type": "code",
   "execution_count": 20,
   "id": "35753ed2",
   "metadata": {},
   "outputs": [
    {
     "name": "stdout",
     "output_type": "stream",
     "text": [
      "My name is Justin_Harlow, I am 27 years old, I am 187 cm tall, and my favorite color is Red.\n"
     ]
    }
   ],
   "source": [
    "print(message)"
   ]
  },
  {
   "cell_type": "markdown",
   "id": "53ad11cb",
   "metadata": {},
   "source": [
    "####Task 2: Temperature Conversion"
   ]
  },
  {
   "cell_type": "code",
   "execution_count": 2,
   "id": "240be1a4",
   "metadata": {},
   "outputs": [],
   "source": [
    "celsius_temp=25"
   ]
  },
  {
   "cell_type": "code",
   "execution_count": 19,
   "id": "576af1b3",
   "metadata": {},
   "outputs": [],
   "source": [
    "fahrenheit_temp = (celsius_temp*9/5)+32"
   ]
  },
  {
   "cell_type": "code",
   "execution_count": 20,
   "id": "0688f1f6",
   "metadata": {},
   "outputs": [
    {
     "name": "stdout",
     "output_type": "stream",
     "text": [
      "77.0\n"
     ]
    }
   ],
   "source": [
    "print(fahrenheit_temp)"
   ]
  },
  {
   "cell_type": "markdown",
   "id": "6f150b01",
   "metadata": {},
   "source": [
    "####Task 3: Simple Calculator"
   ]
  },
  {
   "cell_type": "code",
   "execution_count": 22,
   "id": "c8c6736c",
   "metadata": {},
   "outputs": [],
   "source": [
    "num1=38\n",
    "num2=4"
   ]
  },
  {
   "cell_type": "code",
   "execution_count": 25,
   "id": "8c9f5376",
   "metadata": {},
   "outputs": [
    {
     "name": "stdout",
     "output_type": "stream",
     "text": [
      "42\n"
     ]
    }
   ],
   "source": [
    "print(num1+num2)"
   ]
  },
  {
   "cell_type": "code",
   "execution_count": 26,
   "id": "560631e9",
   "metadata": {},
   "outputs": [
    {
     "name": "stdout",
     "output_type": "stream",
     "text": [
      "34\n"
     ]
    }
   ],
   "source": [
    "print(num1-num2)"
   ]
  },
  {
   "cell_type": "code",
   "execution_count": 27,
   "id": "30f09782",
   "metadata": {},
   "outputs": [
    {
     "name": "stdout",
     "output_type": "stream",
     "text": [
      "152\n"
     ]
    }
   ],
   "source": [
    "print(num1*num2)"
   ]
  },
  {
   "cell_type": "code",
   "execution_count": 28,
   "id": "df541d4c",
   "metadata": {},
   "outputs": [
    {
     "name": "stdout",
     "output_type": "stream",
     "text": [
      "9.5\n"
     ]
    }
   ],
   "source": [
    "print(num1/num2)"
   ]
  },
  {
   "cell_type": "markdown",
   "id": "16b088af",
   "metadata": {},
   "source": [
    "####Task 4: String Manipulation"
   ]
  },
  {
   "cell_type": "code",
   "execution_count": 1,
   "id": "e958fa2b",
   "metadata": {},
   "outputs": [
    {
     "name": "stdout",
     "output_type": "stream",
     "text": [
      " . . . there is no act, however virtuous, for which ingenuity may not find some bad motive.-Thomas Jefferson\n"
     ]
    }
   ],
   "source": [
    "quote=(\" . . . there is no act, however virtuous, for which ingenuity may not find some bad motive.\" '-Thomas Jefferson')\n",
    "print(quote)"
   ]
  },
  {
   "cell_type": "code",
   "execution_count": 2,
   "id": "e1d48aae",
   "metadata": {},
   "outputs": [
    {
     "data": {
      "text/plain": [
       "108"
      ]
     },
     "execution_count": 2,
     "metadata": {},
     "output_type": "execute_result"
    }
   ],
   "source": [
    "len(quote)"
   ]
  },
  {
   "cell_type": "code",
   "execution_count": 3,
   "id": "c4f04f77",
   "metadata": {},
   "outputs": [
    {
     "name": "stdout",
     "output_type": "stream",
     "text": [
      " . . . THERE IS NO ACT, HOWEVER VIRTUOUS, FOR WHICH INGENUITY MAY NOT FIND SOME BAD MOTIVE.-THOMAS JEFFERSON\n"
     ]
    }
   ],
   "source": [
    "print(quote.upper())"
   ]
  },
  {
   "cell_type": "code",
   "execution_count": 4,
   "id": "7dd5036f",
   "metadata": {},
   "outputs": [
    {
     "name": "stdout",
     "output_type": "stream",
     "text": [
      " . . . there is no act, however virtuous, for which ingenuity may not find some bad motive.-thomas jefferson\n"
     ]
    }
   ],
   "source": [
    "print(quote.lower())"
   ]
  },
  {
   "cell_type": "code",
   "execution_count": 5,
   "id": "876c1b70",
   "metadata": {},
   "outputs": [
    {
     "name": "stdout",
     "output_type": "stream",
     "text": [
      ". . . there is no act, however virtuous, for which ingenuity may not find some bad motive.-Thomas Jefferson\n"
     ]
    }
   ],
   "source": [
    "print(quote.lstrip())"
   ]
  },
  {
   "cell_type": "code",
   "execution_count": 6,
   "id": "78bfc61a",
   "metadata": {},
   "outputs": [
    {
     "name": "stdout",
     "output_type": "stream",
     "text": [
      " . . . there is no act, however virtuous, for which ingenuity may not find some bad motive.-Thomas Jefferson\n"
     ]
    }
   ],
   "source": [
    "print(quote.rstrip())"
   ]
  },
  {
   "cell_type": "code",
   "execution_count": 8,
   "id": "d341f56e",
   "metadata": {},
   "outputs": [
    {
     "name": "stdout",
     "output_type": "stream",
     "text": [
      " . . . there is no act, \n",
      "however virtuous, \n",
      "for which ingenuity may not \n",
      "find some bad motive.\n",
      "-Thomas Jefferson\n"
     ]
    }
   ],
   "source": [
    "print(\" . . . there is no act, \\nhowever virtuous, \\nfor which ingenuity may not \\nfind some bad motive.\\n-Thomas Jefferson\")"
   ]
  },
  {
   "cell_type": "markdown",
   "id": "f78128e7",
   "metadata": {},
   "source": [
    "####Task 5: User Input and Integer Operations"
   ]
  },
  {
   "cell_type": "code",
   "execution_count": 10,
   "id": "b9c08497",
   "metadata": {},
   "outputs": [],
   "source": [
    "User_Message=(\"Please input two integer numbers\")\n",
    "input1=4\n",
    "input2=90"
   ]
  },
  {
   "cell_type": "code",
   "execution_count": 13,
   "id": "9eb090d1",
   "metadata": {},
   "outputs": [
    {
     "name": "stdout",
     "output_type": "stream",
     "text": [
      "94\n",
      "-86\n",
      "360\n",
      "0.044444444444444446\n"
     ]
    }
   ],
   "source": [
    "print(input1+input2)\n",
    "print(input1-input2)\n",
    "print(input1*input2)\n",
    "print(input1/input2)"
   ]
  },
  {
   "cell_type": "code",
   "execution_count": null,
   "id": "ad96ce65",
   "metadata": {},
   "outputs": [],
   "source": []
  }
 ],
 "metadata": {
  "kernelspec": {
   "display_name": "Python 3 (ipykernel)",
   "language": "python",
   "name": "python3"
  },
  "language_info": {
   "codemirror_mode": {
    "name": "ipython",
    "version": 3
   },
   "file_extension": ".py",
   "mimetype": "text/x-python",
   "name": "python",
   "nbconvert_exporter": "python",
   "pygments_lexer": "ipython3",
   "version": "3.11.4"
  }
 },
 "nbformat": 4,
 "nbformat_minor": 5
}
